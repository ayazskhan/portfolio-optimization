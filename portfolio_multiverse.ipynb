{
 "cells": [
  {
   "cell_type": "code",
   "execution_count": 2,
   "metadata": {},
   "outputs": [],
   "source": [
    "#imports and stuff\n",
    "import numpy as np\n",
    "import sympy as sp\n"
   ]
  },
  {
   "cell_type": "code",
   "execution_count": 45,
   "metadata": {
    "scrolled": false
   },
   "outputs": [
    {
     "name": "stdout",
     "output_type": "stream",
     "text": [
      "['x_0_0_0' 'x_0_1_0' 'x_1_0_0' 'x_1_1_0' 'x_2_0_0' 'x_2_1_0']\n",
      "Poly(0.111304766283623*x_0_0_0**2 + 0.0648680016519118*x_0_0_0*x_1_0_0 + 0.202939386954759*x_0_0_0*x_2_0_0 - 0.451935694693166*x_0_0_0 + 0.0295186071490284*x_0_1_0**2 + 0.0822318074795079*x_0_1_0*x_1_1_0 + 0.0446904676940358*x_0_1_0*x_2_1_0 - 0.0855841759531638*x_0_1_0 + 0.0501083200203005*x_1_0_0**2 + 0.106972030229808*x_1_0_0*x_2_0_0 - 0.256204600192618*x_1_0_0 + 0.0274209073039754*x_1_1_0**2 + 0.115377401295341*x_1_1_0*x_2_1_0 - 0.377298957125988*x_1_1_0 + 0.124687486140489*x_2_0_0**2 - 0.46723474245774*x_2_0_0 + 0.108192864114045*x_2_1_0**2 - 0.110824041458911*x_2_1_0, x_0_0_0, x_0_1_0, x_1_0_0, x_1_1_0, x_2_0_0, x_2_1_0, domain='RR')\n",
      "----------\n",
      "[[-0.34063093  0.          0.064868    0.          0.20293939  0.        ]\n",
      " [ 0.         -0.05606557  0.          0.08223181  0.          0.04469047]\n",
      " [ 0.          0.         -0.20609628  0.          0.10697203  0.        ]\n",
      " [ 0.          0.          0.         -0.34987805  0.          0.1153774 ]\n",
      " [ 0.          0.          0.          0.         -0.34254726  0.        ]\n",
      " [ 0.          0.          0.          0.          0.         -0.00263118]]\n"
     ]
    }
   ],
   "source": [
    "def round_expr(expr, num_digits):\n",
    "    return expr.xreplace({n : round(n, num_digits) for n in expr.atoms(sp.Number)})\n",
    "\n",
    "def generateQUBO(N,Nt,Nq,H):\n",
    "    coefficients = H.coeffs()\n",
    "    monomials = [sp.prod(x**k for x, k in zip(H.gens, mon)) for mon in H.monoms()]\n",
    "\n",
    "    Q = np.zeros((N*Nt*Nq,N*Nt*Nq))\n",
    "    diag_labels = np.array([])\n",
    "    for n in range(N):\n",
    "        for t in range(Nt):\n",
    "            for q in range(Nq):\n",
    "                mlabel = 'x_'+str(n)+'_'+str(t)+'_'+str(q)\n",
    "                diag_labels = np.append(diag_labels,mlabel)\n",
    "    \n",
    "    print(diag_labels)\n",
    "    for i in range(len(monomials)):\n",
    "        mon = sp.Poly(monomials[i])\n",
    "        gens = np.asarray(mon.gens)\n",
    "        qubo_c = coefficients[i]\n",
    "        \n",
    "        qubo_i = np.where(diag_labels==str(gens[0]))[0][0]\n",
    "        qubo_j = np.where(diag_labels==str(gens[0]))[0][0]\n",
    "        \n",
    "        if (len(gens) > 1):\n",
    "            qubo_j = np.where(diag_labels==str(gens[1]))[0][0]\n",
    "        \n",
    "        Q[qubo_i,qubo_j] += qubo_c\n",
    "                \n",
    "    return Q\n",
    "\n",
    "def generateWt(t,N,Nq,K):\n",
    "    w_t = np.array([])\n",
    "    for n in range(N):\n",
    "        q_expr = 0\n",
    "        for q in range(Nq):\n",
    "            q_expr = q_expr + (2**q)*sp.symbols('x_'+str(n)+'_'+str(t)+'_'+str(q))\n",
    "        \n",
    "        w_n_t = (1/K)*q_expr\n",
    "        w_t = np.append(w_t,w_n_t)\n",
    "    \n",
    "    return sp.Matrix([w_t])\n",
    "\n",
    "N = 3\n",
    "Nt = 2\n",
    "Nq = 1\n",
    "K = 2\n",
    "Ntot = N*Nt*Nq\n",
    "\n",
    "f_returns = np.random.rand(Nt,N)\n",
    "cov = np.array([np.random.rand(N,N),np.random.rand(N,N)])\n",
    "risk = 1/2\n",
    "l = np.random.rand()\n",
    "\n",
    "H = 0\n",
    "for t in range(Nt):\n",
    "    w_t = generateWt(t,N,Nq,K)\n",
    "    mu_t = -1*sp.Matrix([f_returns[t]])\n",
    "    cov_t = sp.Matrix(cov[t])\n",
    "    \n",
    "    H = H + mu_t.dot(w_t)\n",
    "    H = H + risk*(w_t*cov_t).dot(w_t)\n",
    "\n",
    "sp.init_printing()\n",
    "\n",
    "H = sp.Poly(sp.expand(H))\n",
    "qubo = generateQUBO(N,Nt,Nq,H)\n",
    "\n",
    "print(H)\n",
    "print('----------')\n",
    "print(qubo)\n",
    "\n",
    "#tx_expr = 0\n",
    "#for t in range(Nt-1):\n",
    "#    tx_expr = tx_expr + l*(generateWt(t+1,N,Nq,K) - generateWt(t,N,Nq,K))*(generateWt(t+1,N,Nq,K) - generateWt(t,N,Nq,K))\n",
    "\n",
    "#H = H + tx_expr\n",
    "\n",
    "#QUBO = np.zeros((Ntot,Ntot))\n",
    "\n",
    "#asset_data = np.random.rand(365,N)\n",
    "#forcasted_return = np.random.rand(Nt,N)\n",
    "#covariances = np.array([np.random.rand(N,N),np.random.rand(N,N)])\n",
    "#tx_costs = np.array([np.random.rand(N,N),np.random.rand(N,N)])\n",
    "\n",
    "#print(forcasted_return)"
   ]
  },
  {
   "cell_type": "code",
   "execution_count": 46,
   "metadata": {},
   "outputs": [
    {
     "data": {
      "image/png": "[encoded data removed]",
      "text/latex": [
       "$\\displaystyle -0.002631177344866009$"
      ],
      "text/plain": [
       "-0.002631177344866009"
      ]
     },
     "execution_count": 46,
     "metadata": {},
     "output_type": "execute_result"
    }
   ],
   "source": [
    "0.108192864114045-0.110824041458911"
   ]
  },
  {
   "cell_type": "code",
   "execution_count": 15,
   "metadata": {
    "scrolled": true
   },
   "outputs": [
    {
     "ename": "NameError",
     "evalue": "name 'forcasted_return' is not defined",
     "output_type": "error",
     "traceback": [
      "\u001b[1;31m---------------------------------------------------------------------------\u001b[0m",
      "\u001b[1;31mNameError\u001b[0m                                 Traceback (most recent call last)",
      "\u001b[1;32m<ipython-input-15-472b53861427>\u001b[0m in \u001b[0;36m<module>\u001b[1;34m\u001b[0m\n\u001b[0;32m      5\u001b[0m     \u001b[1;32mreturn\u001b[0m \u001b[0mQ1_QUBO\u001b[0m\u001b[1;33m\u001b[0m\u001b[1;33m\u001b[0m\u001b[0m\n\u001b[0;32m      6\u001b[0m \u001b[1;33m\u001b[0m\u001b[0m\n\u001b[1;32m----> 7\u001b[1;33m \u001b[0mprint\u001b[0m\u001b[1;33m(\u001b[0m\u001b[0mQ1\u001b[0m\u001b[1;33m(\u001b[0m\u001b[0mforcasted_return\u001b[0m\u001b[1;33m)\u001b[0m\u001b[1;33m)\u001b[0m\u001b[1;33m\u001b[0m\u001b[1;33m\u001b[0m\u001b[0m\n\u001b[0m",
      "\u001b[1;31mNameError\u001b[0m: name 'forcasted_return' is not defined"
     ]
    }
   ],
   "source": [
    "def Q1(forcasted_return):\n",
    "    Q1_QUBO = np.zeros((Ntot,Ntot))\n",
    "    np.fill_diagonal(Q1_QUBO,-1*forcasted_return)\n",
    "        \n",
    "    return Q1_QUBO\n",
    "\n",
    "print(Q1(forcasted_return))"
   ]
  },
  {
   "cell_type": "code",
   "execution_count": null,
   "metadata": {},
   "outputs": [],
   "source": []
  }
 ],
 "metadata": {
  "kernelspec": {
   "display_name": "Python 3",
   "language": "python",
   "name": "python3"
  },
  "language_info": {
   "codemirror_mode": {
    "name": "ipython",
    "version": 3
   },
   "file_extension": ".py",
   "mimetype": "text/x-python",
   "name": "python",
   "nbconvert_exporter": "python",
   "pygments_lexer": "ipython3",
   "version": "3.7.4"
  }
 },
 "nbformat": 4,
 "nbformat_minor": 2
}
