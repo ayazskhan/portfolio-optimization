{
 "cells": [
  {
   "cell_type": "code",
   "execution_count": 47,
   "metadata": {},
   "outputs": [],
   "source": [
    "#imports and stuff\n",
    "import numpy as np\n",
    "import sympy as sp\n",
    "\n",
    "# Import the functions and packages that are used\n",
    "from dwave.system import EmbeddingComposite, DWaveSampler\n",
    "from dimod import BinaryQuadraticModel\n"
   ]
  },
  {
   "cell_type": "code",
   "execution_count": 50,
   "metadata": {
    "scrolled": false
   },
   "outputs": [
    {
     "name": "stdout",
     "output_type": "stream",
     "text": [
      "['x_0_0_0' 'x_0_1_0' 'x_1_0_0' 'x_1_1_0' 'x_2_0_0' 'x_2_1_0' 'x_3_0_0'\n",
      " 'x_3_1_0' 'x_4_0_0' 'x_4_1_0' 'x_5_0_0' 'x_5_1_0']\n",
      "Poly(0.102370993134838*x_0_0_0**2 + 0.0631830950458628*x_0_0_0*x_1_0_0 + 0.141467513981981*x_0_0_0*x_2_0_0 + 0.201392249361744*x_0_0_0*x_3_0_0 + 0.134039011795002*x_0_0_0*x_4_0_0 + 0.130485095810829*x_0_0_0*x_5_0_0 - 0.0732286190157175*x_0_0_0 + 0.0634726328007583*x_0_1_0**2 + 0.184124568528616*x_0_1_0*x_1_1_0 + 0.148898497672739*x_0_1_0*x_2_1_0 + 0.175651720924981*x_0_1_0*x_3_1_0 + 0.0610248263105498*x_0_1_0*x_4_1_0 + 0.160517299193014*x_0_1_0*x_5_1_0 - 0.304095998949624*x_0_1_0 + 0.0971070215949068*x_1_0_0**2 + 0.094185585616219*x_1_0_0*x_2_0_0 + 0.0949395987575418*x_1_0_0*x_3_0_0 + 0.0318636274473638*x_1_0_0*x_4_0_0 + 0.147030508261686*x_1_0_0*x_5_0_0 - 0.484500697169221*x_1_0_0 + 0.0220005401114773*x_1_1_0**2 + 0.141531459536857*x_1_1_0*x_2_1_0 + 0.181960979557243*x_1_1_0*x_3_1_0 + 0.110522302032154*x_1_1_0*x_4_1_0 + 0.1782648234152*x_1_1_0*x_5_1_0 - 0.279904152826304*x_1_1_0 + 0.115126614551852*x_2_0_0**2 + 0.173607157329746*x_2_0_0*x_3_0_0 + 0.247217272673782*x_2_0_0*x_4_0_0 + 0.139779701428472*x_2_0_0*x_5_0_0 - 0.00619860386366661*x_2_0_0 + 0.00527614910796534*x_2_1_0**2 + 0.162349126531668*x_2_1_0*x_3_1_0 + 0.12096762146931*x_2_1_0*x_4_1_0 + 0.125204256401397*x_2_1_0*x_5_1_0 - 0.0746830358073823*x_2_1_0 + 0.0624224438153125*x_3_0_0**2 + 0.127790953492801*x_3_0_0*x_4_0_0 + 0.0804288111890446*x_3_0_0*x_5_0_0 - 0.118719599423188*x_3_0_0 + 0.122645113935293*x_3_1_0**2 + 0.116748300754029*x_3_1_0*x_4_1_0 + 0.0811959639910224*x_3_1_0*x_5_1_0 - 0.0463881394555606*x_3_1_0 + 0.0726255336448181*x_4_0_0**2 + 0.115329272249157*x_4_0_0*x_5_0_0 - 0.137814138585001*x_4_0_0 + 0.0726538428783809*x_4_1_0**2 + 0.0858112124059123*x_4_1_0*x_5_1_0 - 0.164664224349161*x_4_1_0 + 0.109573191489816*x_5_0_0**2 - 0.329643580370327*x_5_0_0 + 0.0765928841422035*x_5_1_0**2 - 0.416279464143602*x_5_1_0, x_0_0_0, x_0_1_0, x_1_0_0, x_1_1_0, x_2_0_0, x_2_1_0, x_3_0_0, x_3_1_0, x_4_0_0, x_4_1_0, x_5_0_0, x_5_1_0, domain='RR')\n",
      "----------\n",
      "[[ 0.02914237  0.          0.0631831   0.          0.14146751  0.\n",
      "   0.20139225  0.          0.13403901  0.          0.1304851   0.        ]\n",
      " [ 0.         -0.24062337  0.          0.18412457  0.          0.1488985\n",
      "   0.          0.17565172  0.          0.06102483  0.          0.1605173 ]\n",
      " [ 0.          0.         -0.38739368  0.          0.09418559  0.\n",
      "   0.0949396   0.          0.03186363  0.          0.14703051  0.        ]\n",
      " [ 0.          0.          0.         -0.25790361  0.          0.14153146\n",
      "   0.          0.18196098  0.          0.1105223   0.          0.17826482]\n",
      " [ 0.          0.          0.          0.          0.10892801  0.\n",
      "   0.17360716  0.          0.24721727  0.          0.1397797   0.        ]\n",
      " [ 0.          0.          0.          0.          0.         -0.06940689\n",
      "   0.          0.16234913  0.          0.12096762  0.          0.12520426]\n",
      " [ 0.          0.          0.          0.          0.          0.\n",
      "  -0.05629716  0.          0.12779095  0.          0.08042881  0.        ]\n",
      " [ 0.          0.          0.          0.          0.          0.\n",
      "   0.          0.07625697  0.          0.1167483   0.          0.08119596]\n",
      " [ 0.          0.          0.          0.          0.          0.\n",
      "   0.          0.         -0.0651886   0.          0.11532927  0.        ]\n",
      " [ 0.          0.          0.          0.          0.          0.\n",
      "   0.          0.          0.         -0.09201038  0.          0.08581121]\n",
      " [ 0.          0.          0.          0.          0.          0.\n",
      "   0.          0.          0.          0.         -0.22007039  0.        ]\n",
      " [ 0.          0.          0.          0.          0.          0.\n",
      "   0.          0.          0.          0.          0.         -0.33968658]]\n"
     ]
    }
   ],
   "source": [
    "def round_expr(expr, num_digits):\n",
    "    return expr.xreplace({n : round(n, num_digits) for n in expr.atoms(sp.Number)})\n",
    "\n",
    "def generateQUBO(N,Nt,Nq,H):\n",
    "    coefficients = H.coeffs()\n",
    "    monomials = [sp.prod(x**k for x, k in zip(H.gens, mon)) for mon in H.monoms()]\n",
    "\n",
    "    Q = np.zeros((N*Nt*Nq,N*Nt*Nq))\n",
    "    diag_labels = np.array([])\n",
    "    for n in range(N):\n",
    "        for t in range(Nt):\n",
    "            for q in range(Nq):\n",
    "                mlabel = 'x_'+str(n)+'_'+str(t)+'_'+str(q)\n",
    "                diag_labels = np.append(diag_labels,mlabel)\n",
    "    \n",
    "    print(diag_labels)\n",
    "    for i in range(len(monomials)):\n",
    "        mon = sp.Poly(monomials[i])\n",
    "        gens = np.asarray(mon.gens)\n",
    "        qubo_c = coefficients[i]\n",
    "        \n",
    "        qubo_i = np.where(diag_labels==str(gens[0]))[0][0]\n",
    "        qubo_j = np.where(diag_labels==str(gens[0]))[0][0]\n",
    "        \n",
    "        if (len(gens) > 1):\n",
    "            qubo_j = np.where(diag_labels==str(gens[1]))[0][0]\n",
    "        \n",
    "        Q[qubo_i,qubo_j] += qubo_c\n",
    "                \n",
    "    return Q\n",
    "\n",
    "def generateWt(t,N,Nq,K):\n",
    "    w_t = np.array([])\n",
    "    for n in range(N):\n",
    "        q_expr = 0\n",
    "        for q in range(Nq):\n",
    "            q_expr = q_expr + (2**q)*sp.symbols('x_'+str(n)+'_'+str(t)+'_'+str(q))\n",
    "        \n",
    "        w_n_t = (1/K)*q_expr\n",
    "        w_t = np.append(w_t,w_n_t)\n",
    "    \n",
    "    return sp.Matrix([w_t])\n",
    "\n",
    "N = 3\n",
    "Nt = 2\n",
    "Nq = 1\n",
    "K = 2\n",
    "Ntot = N*Nt*Nq\n",
    "\n",
    "f_returns = np.random.rand(Nt,N)\n",
    "cov = np.array([np.random.rand(N,N),np.random.rand(N,N)])\n",
    "risk = 1/2\n",
    "l = np.random.rand()\n",
    "\n",
    "H = 0\n",
    "for t in range(Nt):\n",
    "    w_t = generateWt(t,N,Nq,K)\n",
    "    mu_t = -1*sp.Matrix([f_returns[t]])\n",
    "    cov_t = sp.Matrix(cov[t])\n",
    "    \n",
    "    H = H + mu_t.dot(w_t)\n",
    "    H = H + risk*(w_t*cov_t).dot(w_t)\n",
    "\n",
    "sp.init_printing()\n",
    "\n",
    "H = sp.Poly(sp.expand(H))\n",
    "qubo = generateQUBO(N,Nt,Nq,H)\n",
    "\n",
    "print(H)\n",
    "print('----------')\n",
    "print(qubo)\n",
    "\n",
    "#tx_expr = 0\n",
    "#for t in range(Nt-1):\n",
    "#    tx_expr = tx_expr + l*(generateWt(t+1,N,Nq,K) - generateWt(t,N,Nq,K))*(generateWt(t+1,N,Nq,K) - generateWt(t,N,Nq,K))\n",
    "\n",
    "#H = H + tx_expr\n",
    "\n",
    "#QUBO = np.zeros((Ntot,Ntot))\n",
    "\n",
    "#asset_data = np.random.rand(365,N)\n",
    "#forcasted_return = np.random.rand(Nt,N)\n",
    "#covariances = np.array([np.random.rand(N,N),np.random.rand(N,N)])\n",
    "#tx_costs = np.array([np.random.rand(N,N),np.random.rand(N,N)])\n",
    "\n",
    "#print(forcasted_return)"
   ]
  },
  {
   "cell_type": "code",
   "execution_count": null,
   "metadata": {},
   "outputs": [],
   "source": [
    "# Convert the problem to a BQM\n",
    "bqm = BinaryQuadraticModel.from_numpy_matrix(qubo)\n",
    "\n",
    "# Define the sampler that will be used to run the problem\n",
    "sampler = EmbeddingComposite(DWaveSampler())\n",
    "\n",
    "# Run the problem on the sampler and print the results\n",
    "sampleset = sampler.sample(bqm, num_reads = 10)\n",
    "print(sampleset)"
   ]
  },
  {
   "cell_type": "code",
   "execution_count": 46,
   "metadata": {},
   "outputs": [
    {
     "data": {
      "image/png": "[encoded data removed]",
      "text/latex": [
       "$\\displaystyle -0.002631177344866009$"
      ],
      "text/plain": [
       "-0.002631177344866009"
      ]
     },
     "execution_count": 46,
     "metadata": {},
     "output_type": "execute_result"
    }
   ],
   "source": [
    "0.108192864114045-0.110824041458911"
   ]
  },
  {
   "cell_type": "code",
   "execution_count": 15,
   "metadata": {
    "scrolled": true
   },
   "outputs": [
    {
     "ename": "NameError",
     "evalue": "name 'forcasted_return' is not defined",
     "output_type": "error",
     "traceback": [
      "\u001b[1;31m---------------------------------------------------------------------------\u001b[0m",
      "\u001b[1;31mNameError\u001b[0m                                 Traceback (most recent call last)",
      "\u001b[1;32m<ipython-input-15-472b53861427>\u001b[0m in \u001b[0;36m<module>\u001b[1;34m\u001b[0m\n\u001b[0;32m      5\u001b[0m     \u001b[1;32mreturn\u001b[0m \u001b[0mQ1_QUBO\u001b[0m\u001b[1;33m\u001b[0m\u001b[1;33m\u001b[0m\u001b[0m\n\u001b[0;32m      6\u001b[0m \u001b[1;33m\u001b[0m\u001b[0m\n\u001b[1;32m----> 7\u001b[1;33m \u001b[0mprint\u001b[0m\u001b[1;33m(\u001b[0m\u001b[0mQ1\u001b[0m\u001b[1;33m(\u001b[0m\u001b[0mforcasted_return\u001b[0m\u001b[1;33m)\u001b[0m\u001b[1;33m)\u001b[0m\u001b[1;33m\u001b[0m\u001b[1;33m\u001b[0m\u001b[0m\n\u001b[0m",
      "\u001b[1;31mNameError\u001b[0m: name 'forcasted_return' is not defined"
     ]
    }
   ],
   "source": [
    "def Q1(forcasted_return):\n",
    "    Q1_QUBO = np.zeros((Ntot,Ntot))\n",
    "    np.fill_diagonal(Q1_QUBO,-1*forcasted_return)\n",
    "        \n",
    "    return Q1_QUBO\n",
    "\n",
    "print(Q1(forcasted_return))"
   ]
  },
  {
   "cell_type": "code",
   "execution_count": null,
   "metadata": {},
   "outputs": [],
   "source": []
  }
 ],
 "metadata": {
  "kernelspec": {
   "display_name": "Python 3",
   "language": "python",
   "name": "python3"
  },
  "language_info": {
   "codemirror_mode": {
    "name": "ipython",
    "version": 3
   },
   "file_extension": ".py",
   "mimetype": "text/x-python",
   "name": "python",
   "nbconvert_exporter": "python",
   "pygments_lexer": "ipython3",
   "version": "3.7.4"
  }
 },
 "nbformat": 4,
 "nbformat_minor": 2
}
